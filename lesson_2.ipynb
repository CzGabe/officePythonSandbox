{
 "cells": [
  {
   "cell_type": "markdown",
   "metadata": {},
   "source": [
    "# #2 Intro to Python"
   ]
  },
  {
   "cell_type": "markdown",
   "metadata": {},
   "source": [
    "_Let's scale Jupyter to the window size_"
   ]
  },
  {
   "cell_type": "code",
   "execution_count": null,
   "metadata": {},
   "outputs": [],
   "source": [
    "from IPython.core.display import display, HTML\n",
    "display(HTML(\"<style>.container { width 80% : important;}</style>\"))"
   ]
  },
  {
   "cell_type": "markdown",
   "metadata": {},
   "source": [
    "## Let's import some typical libraries to work with..."
   ]
  },
  {
   "cell_type": "code",
   "execution_count": null,
   "metadata": {},
   "outputs": [],
   "source": [
    "import os\n",
    "import pandas as pd\n",
    "import numpy as np\n",
    "import scipy as sp\n",
    "import gc\n",
    "\n",
    "import matplotlib as mpl\n",
    "import matplotlib.pyplot as plt\n",
    "import seaborn as sns\n",
    "\n",
    "import time\n",
    "import datetime as dt\n",
    "from datetime import date\n",
    "from datetime import datetime\n",
    "from dateutil.relativedelta import relativedelta\n",
    "\n",
    "import math\n",
    "\n",
    "import smtplib, ssl\n",
    "from email.mime.text import MIMEText\n",
    "from email.mime.image import MIMEImage\n",
    "from email.mime.multipart import MIMEMultipart\n",
    "\n",
    "from IPython.display import clear_output"
   ]
  },
  {
   "cell_type": "markdown",
   "metadata": {},
   "source": [
    "But who want to copy-paste libraries all the time...?<br>Luckily they can be **imported from a file**"
   ]
  },
  {
   "cell_type": "code",
   "execution_count": null,
   "metadata": {},
   "outputs": [],
   "source": [
    "from toImportLibraries import *"
   ]
  },
  {
   "cell_type": "markdown",
   "metadata": {},
   "source": [
    "This can also be done with e.g. functions:"
   ]
  },
  {
   "cell_type": "code",
   "execution_count": null,
   "metadata": {},
   "outputs": [],
   "source": [
    "from toImportFunctions import *"
   ]
  },
  {
   "cell_type": "code",
   "execution_count": null,
   "metadata": {},
   "outputs": [],
   "source": [
    "checkSciLibVersions()"
   ]
  },
  {
   "cell_type": "markdown",
   "metadata": {},
   "source": [
    "Some iPython Magic to help plots and reload import files if modfied:"
   ]
  },
  {
   "cell_type": "code",
   "execution_count": null,
   "metadata": {},
   "outputs": [],
   "source": [
    "%matplotlib inline\n",
    "%load_ext autoreload\n",
    "%autoreload 2"
   ]
  },
  {
   "cell_type": "markdown",
   "metadata": {},
   "source": [
    "## Extending the example:\n",
    "\n",
    "Same excercise, but\n",
    "* One of the input is in Excel\n",
    "* Save the plot as a .png file\n",
    "* Send an e-mail of the results"
   ]
  },
  {
   "cell_type": "markdown",
   "metadata": {},
   "source": [
    "check if the file we need exists"
   ]
  },
  {
   "cell_type": "code",
   "execution_count": null,
   "metadata": {},
   "outputs": [],
   "source": [
    "os.path.exists('./ID_amt_map.xlsx')"
   ]
  },
  {
   "cell_type": "markdown",
   "metadata": {},
   "source": [
    "Or see the content of the folder"
   ]
  },
  {
   "cell_type": "code",
   "execution_count": null,
   "metadata": {},
   "outputs": [],
   "source": [
    "os.listdir('./')"
   ]
  },
  {
   "cell_type": "markdown",
   "metadata": {},
   "source": [
    "Read the csv as last time"
   ]
  },
  {
   "cell_type": "code",
   "execution_count": null,
   "metadata": {},
   "outputs": [],
   "source": [
    "dfNames = pd.read_csv(\"ID_name_map.csv\")\n",
    "dfNames.head()"
   ]
  },
  {
   "cell_type": "markdown",
   "metadata": {},
   "source": [
    "Read the Excel file"
   ]
  },
  {
   "cell_type": "code",
   "execution_count": null,
   "metadata": {},
   "outputs": [],
   "source": [
    "xlFile = pd.ExcelFile('./ID_amt_map.xlsx')"
   ]
  },
  {
   "cell_type": "code",
   "execution_count": null,
   "metadata": {},
   "outputs": [],
   "source": [
    "#Parse the worksheet with the data we need\n",
    "dfAmt = xlFile.parse('data')\n",
    "dfAmt.head()"
   ]
  },
  {
   "cell_type": "markdown",
   "metadata": {},
   "source": [
    "Merge the data"
   ]
  },
  {
   "cell_type": "code",
   "execution_count": null,
   "metadata": {},
   "outputs": [],
   "source": [
    "dfFinal = pd.merge(dfNames, dfAmt, how='inner', on='ID')\n",
    "dfFinal.head()"
   ]
  },
  {
   "cell_type": "markdown",
   "metadata": {},
   "source": [
    "Save results in a new file"
   ]
  },
  {
   "cell_type": "code",
   "execution_count": null,
   "metadata": {},
   "outputs": [],
   "source": [
    "dfFinal.to_csv('Herbs.csv', index=False)"
   ]
  },
  {
   "cell_type": "markdown",
   "metadata": {},
   "source": [
    "Create a new plot and save it"
   ]
  },
  {
   "cell_type": "code",
   "execution_count": null,
   "metadata": {},
   "outputs": [],
   "source": [
    "with plt.xkcd(): #https://matplotlib.org/stable/gallery/showcase/xkcd.html\n",
    "    fig = plt.figure(figsize=(14, 6))\n",
    "    ax = dfFinal['Amount'].plot(kind='bar')\n",
    "    ax.set_xticklabels(dfFinal['Name'])\n",
    "    ax.set_title('Herb Stock')\n",
    "    ax.set_ylabel('Amount')\n",
    "    plt.savefig('herbStock.png', dpi=100, bbox_inches='tight')\n",
    "    plt.show()"
   ]
  },
  {
   "cell_type": "markdown",
   "metadata": {},
   "source": [
    "Let's send it to someone. The adressee can be given by input:"
   ]
  },
  {
   "cell_type": "code",
   "execution_count": null,
   "metadata": {},
   "outputs": [],
   "source": [
    "emailReceiver = input(\"e-mail address to send mail to: \")"
   ]
  },
  {
   "cell_type": "code",
   "execution_count": null,
   "metadata": {},
   "outputs": [],
   "source": [
    "print(emailReceiver)"
   ]
  },
  {
   "cell_type": "markdown",
   "metadata": {},
   "source": [
    "Send the mail with [smtplib](https://docs.python.org/3/library/smtplib.html#smtp-example)<br>\n",
    "Here I use a Gmail address to send mails from. Don't forget to enable less secure apps for this account to let python access. "
   ]
  },
  {
   "cell_type": "code",
   "execution_count": null,
   "metadata": {},
   "outputs": [],
   "source": [
    "# Not a good way to store passwords...\n",
    "passwordForSender = input(\"Type your password for sender e-mail address and press enter:\")\n",
    "clear_output()"
   ]
  },
  {
   "cell_type": "code",
   "execution_count": null,
   "metadata": {},
   "outputs": [],
   "source": [
    "emailSubject = \"Low Herb Stock\"\n",
    "emailSender = \"<someEmailAddress>@gmail.com\"\n",
    "\n",
    "message = MIMEMultipart(\"alternative\")\n",
    "message[\"Subject\"] = emailSubject\n",
    "message[\"From\"] = emailSender\n",
    "message[\"To\"] = emailReceiver\n",
    "\n",
    "# Create the plain-text and HTML version of your message\n",
    "html = \"\"\"\\\n",
    "<html>\n",
    "  <body>\n",
    "    <p>Hi,<br>\n",
    "    Please fill up the Herb Stock before the first Potion class of next semester.<br>\n",
    "    </p>\n",
    "  </body>\n",
    "</html>\n",
    "\"\"\"\n",
    "\n",
    "# Turn these into plain/html MIMEText objects\n",
    "text = MIMEText(html, \"html\")\n",
    "\n",
    "# Add HTML/plain-text parts to MIMEMultipart message\n",
    "# The email client will try to render the last part first\n",
    "message.attach(text)\n",
    "\n",
    "imageFile = \"herbStock.png\"\n",
    "img_data = open(imageFile, 'rb').read()\n",
    "image = MIMEImage(img_data, name=(imageFile))\n",
    "message.attach(image)\n",
    "\n",
    "# Create secure connection with server and send email\n",
    "context = ssl.create_default_context()\n",
    "with smtplib.SMTP_SSL(\"smtp.gmail.com\", 465, context=context) as server:\n",
    "    server.login(emailSender, passwordForSender)\n",
    "    server.sendmail(\n",
    "        emailSender, emailReceiver, message.as_string()\n",
    "    )\n",
    "    server.quit()\n",
    "    \n",
    "print(\"> Message sent\")"
   ]
  },
  {
   "cell_type": "markdown",
   "metadata": {},
   "source": [
    "#### Even better: let's just run this from Windows by a simple double-click\n",
    "0. Add Python to Windows Environment Variables (if you don't have it already)\n",
    "1. Create a test.py file from the code above (File/download or e.g. merge cells and copy-paste...)\n",
    "2. Copy the followings to a test.cmd file and place it next to the test.py file: <br>\n",
    "python test.py "
   ]
  },
  {
   "cell_type": "markdown",
   "metadata": {},
   "source": [
    "## Connecting to SQL Databases\n",
    "The general approach using pandas.io.sql:\n",
    "- prepare sql query as string\n",
    "- connect DB\n",
    "- pull data with read_sql to a DataFrame\n",
    "- close connection"
   ]
  },
  {
   "cell_type": "markdown",
   "metadata": {},
   "source": [
    "Most Databases have their own libraries for Python connection. <br> E.g.:\n",
    "- [IBM](https://www.ibm.com/docs/en/db2/11.1?topic=db-connecting-database-server)\n",
    "- [Oracle](https://www.oracletutorial.com/python-oracle/connecting-to-oracle-database-in-python/)\n",
    "- [Sybase](https://wiki.python.org/moin/Sybase)"
   ]
  },
  {
   "cell_type": "markdown",
   "metadata": {},
   "source": [
    "## Date - Time - Datetime"
   ]
  },
  {
   "cell_type": "code",
   "execution_count": null,
   "metadata": {},
   "outputs": [],
   "source": [
    "print(date.today())\n",
    "date.today()"
   ]
  },
  {
   "cell_type": "code",
   "execution_count": null,
   "metadata": {},
   "outputs": [],
   "source": [
    "today = date.today()\n",
    "print(today.year, today.month, today.day)"
   ]
  },
  {
   "cell_type": "code",
   "execution_count": null,
   "metadata": {},
   "outputs": [],
   "source": [
    "print(datetime.now())"
   ]
  },
  {
   "cell_type": "markdown",
   "metadata": {},
   "source": [
    "__For formatting: [https://strftime.org/](https://strftime.org/)__"
   ]
  },
  {
   "cell_type": "code",
   "execution_count": null,
   "metadata": {},
   "outputs": [],
   "source": [
    "now = datetime.now()\n",
    "print(type(now), now)"
   ]
  },
  {
   "cell_type": "code",
   "execution_count": null,
   "metadata": {},
   "outputs": [],
   "source": [
    "nowStr = now.strftime('%Y/%m/%d')\n",
    "print(type(nowStr), nowStr)"
   ]
  },
  {
   "cell_type": "code",
   "execution_count": null,
   "metadata": {},
   "outputs": [],
   "source": [
    "print(now.strftime('Current time: %I:%M:%S %p'))\n",
    "print(now.strftime('24-hour time: %H:%M'))"
   ]
  },
  {
   "cell_type": "markdown",
   "metadata": {},
   "source": [
    "__Ellapsed time: timedelta__"
   ]
  },
  {
   "cell_type": "code",
   "execution_count": null,
   "metadata": {},
   "outputs": [],
   "source": [
    "#Simple previous working day:\n",
    "dayDelay = 1\n",
    "cop = date.today().strftime('%Y-%m-%d')\n",
    "if date.today().strftime('%a') == 'Mon':\n",
    "    dayDelay = 3\n",
    "elif date.today().strftime('%a') == 'Sun':\n",
    "    dayDelay = 2\n",
    "copPrev = (date.today() - dt.timedelta(dayDelay)).strftime('%Y-%m-%d')\n",
    "print('Last COP\\t today')\n",
    "print(copPrev, '\\t', cop)\n",
    "print(type(copPrev), '\\t',type(cop))"
   ]
  },
  {
   "cell_type": "code",
   "execution_count": null,
   "metadata": {},
   "outputs": [],
   "source": [
    "#Difference between dates in days\n",
    "eoy = date(today.year,12,31)\n",
    "print(today, '->', eoy)\n",
    "print((eoy-today).days, 'days left from the year.')"
   ]
  },
  {
   "cell_type": "markdown",
   "metadata": {},
   "source": [
    "__Dates with specific frequency__ - using pandas<br>\n",
    "[https://pandas.pydata.org/pandas-docs/stable/user_guide/timeseries.html#offset-aliases](https://pandas.pydata.org/pandas-docs/stable/user_guide/timeseries.html#offset-aliases)"
   ]
  },
  {
   "cell_type": "code",
   "execution_count": null,
   "metadata": {},
   "outputs": [],
   "source": [
    "#E.g. Business Month Starts\n",
    "pd.date_range(today, eoy, freq = 'BMS')"
   ]
  },
  {
   "cell_type": "markdown",
   "metadata": {},
   "source": [
    "## Filter file line-by-line"
   ]
  },
  {
   "cell_type": "code",
   "execution_count": null,
   "metadata": {},
   "outputs": [],
   "source": [
    "fileName = 'financialSample.csv'"
   ]
  },
  {
   "cell_type": "code",
   "execution_count": null,
   "metadata": {},
   "outputs": [],
   "source": [
    "def findSales(fileName,Country):\n",
    "    with open('filteredFile.csv', 'w+') as writeFile:\n",
    "        writeFile.write('Segment,Country,Product\\n')\n",
    "        \n",
    "        with open(fileName,'r') as readFile:\n",
    "            for i,line in enumerate(readFile):\n",
    "                \n",
    "                if (i % 100) == 0:\n",
    "                    print(str(i/100)+'e2',end=', ')\n",
    "                    \n",
    "                lineSplit = line.split('\\n')[0]\n",
    "                lineSplit = lineSplit.split(';')\n",
    "                \n",
    "                if lineSplit[1] == Country:\n",
    "                    writeFile.write(','.join([lineSplit[0], lineSplit[1], lineSplit[2]])+'\\n')\n",
    "                    \n",
    "    writeFile.close()\n",
    "    \n",
    "    print('\\nTotal Rows investigated:',i)\n",
    "                "
   ]
  },
  {
   "cell_type": "code",
   "execution_count": null,
   "metadata": {},
   "outputs": [],
   "source": [
    "findSales(fileName,'Germany')"
   ]
  },
  {
   "cell_type": "code",
   "execution_count": null,
   "metadata": {},
   "outputs": [],
   "source": [
    "df = pd.read_csv('filteredFile.csv')\n",
    "df.head()"
   ]
  }
 ],
 "metadata": {
  "kernelspec": {
   "display_name": "Python 3",
   "language": "python",
   "name": "python3"
  },
  "language_info": {
   "codemirror_mode": {
    "name": "ipython",
    "version": 3
   },
   "file_extension": ".py",
   "mimetype": "text/x-python",
   "name": "python",
   "nbconvert_exporter": "python",
   "pygments_lexer": "ipython3",
   "version": "3.8.6"
  }
 },
 "nbformat": 4,
 "nbformat_minor": 4
}
