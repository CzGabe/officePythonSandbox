{
 "cells": [
  {
   "cell_type": "markdown",
   "metadata": {},
   "source": [
    "# #4 Intro to Python"
   ]
  },
  {
   "cell_type": "code",
   "execution_count": null,
   "metadata": {},
   "outputs": [],
   "source": [
    "from toImportLibraries import *\n",
    "from toImportFunctions import *\n",
    "checkSciLibVersions()"
   ]
  },
  {
   "cell_type": "code",
   "execution_count": null,
   "metadata": {},
   "outputs": [],
   "source": [
    "%matplotlib inline\n",
    "%load_ext autoreload\n",
    "%autoreload 2"
   ]
  },
  {
   "cell_type": "markdown",
   "metadata": {},
   "source": [
    "## List Comprehensions \n",
    "$ S=\\left\\{ x^{2}:x\\:in\\:\\left\\{ 0\\ldots10\\right\\} \\right\\} $\n",
    "\n",
    "$ V=\\left\\{ 1,2,4,8,\\ldots,2^{12}\\right\\} $\n",
    "\n",
    "$ M=\\left\\{ x\\:|\\:x\\:in\\:S\\:and\\:x\\:even\\right\\} $"
   ]
  },
  {
   "cell_type": "code",
   "execution_count": null,
   "metadata": {},
   "outputs": [],
   "source": [
    "S = [x**2 for x in range(11)]\n",
    "V = [2**i for i in range(13)]\n",
    "M = [x for x in S if x % 2 ==0]\n",
    "\n",
    "print('S=', S, '\\nV=', V, '\\nM=', M)"
   ]
  },
  {
   "cell_type": "markdown",
   "metadata": {},
   "source": [
    "## A small simulation example"
   ]
  },
  {
   "cell_type": "markdown",
   "metadata": {},
   "source": [
    "**Let's see a Brownian bridge**"
   ]
  },
  {
   "cell_type": "code",
   "execution_count": null,
   "metadata": {},
   "outputs": [],
   "source": [
    "class Parameters:\n",
    "    tMax = 1000\n",
    "    T = 1.0\n",
    "    M  = 100000.0\n",
    "    AT = 0.0\n",
    "    BT = 0.0\n",
    "    numOfPaths = 100\n",
    "    conf = 0.95\n",
    "    \n",
    "    def printValues():\n",
    "        pass"
   ]
  },
  {
   "cell_type": "code",
   "execution_count": null,
   "metadata": {},
   "outputs": [],
   "source": [
    "p = Parameters\n",
    "p.tMax = 400\n",
    "p.T = 1.0\n",
    "p.numOfPaths = 137"
   ]
  },
  {
   "cell_type": "markdown",
   "metadata": {},
   "source": [
    "**Wiener Process**"
   ]
  },
  {
   "cell_type": "code",
   "execution_count": null,
   "metadata": {},
   "outputs": [],
   "source": [
    "def initWProcess(p):\n",
    "    dfW0 = pd.DataFrame(np.array([np.ones(p.numOfPaths)*0.0]))\n",
    "    dfW = pd.DataFrame(np.random.randn(p.tMax, p.numOfPaths)/np.sqrt(365))\n",
    "    dfW = pd.concat([dfW0,dfW])\n",
    "    dfW.reset_index(inplace=True, drop=True)\n",
    "    dfW = dfW.cumsum()\n",
    "    \n",
    "    dfW['t'] = range(0,len(dfW))\n",
    "    dfW['t'] = dfW['t'] * 1.0\n",
    "    dfW['t'] = dfW['t'] / 365\n",
    "    \n",
    "    return dfW"
   ]
  },
  {
   "cell_type": "code",
   "execution_count": null,
   "metadata": {},
   "outputs": [],
   "source": [
    "V = initWProcess(p)\n",
    "V.head()"
   ]
  },
  {
   "cell_type": "markdown",
   "metadata": {},
   "source": [
    "[Matplotlib](https://matplotlib.org/stable/gallery/index.html) for more examples"
   ]
  },
  {
   "cell_type": "code",
   "execution_count": null,
   "metadata": {},
   "outputs": [],
   "source": [
    "plt.figure(figsize=(20,10), facecolor='white')\n",
    "plt.title('random walk')\n",
    "plt.xlabel('time [d]')\n",
    "plt.ylabel('dist')\n",
    "\n",
    "plt.plot(V.iloc[:,0:p.numOfPaths], color='k', alpha=0.1)\n",
    "plt.show()"
   ]
  },
  {
   "cell_type": "markdown",
   "metadata": {},
   "source": [
    "**[Brownian bridge](https://en.wikipedia.org/wiki/Brownian_bridge)**\n",
    "$$B(t) = W(t) - \\frac{t}{T} W(T)$$"
   ]
  },
  {
   "cell_type": "code",
   "execution_count": null,
   "metadata": {},
   "outputs": [],
   "source": [
    "def BrownianBridge(row, WT, T):\n",
    "    #print(row.iloc[0],'XXX',row.iloc[1], row)\n",
    "    x = row.iloc[0]-WT*row.iloc[1]/T\n",
    "    return x\n",
    "\n",
    "V = initWProcess(p)\n",
    "for c in V.columns[:p.numOfPaths]:\n",
    "    #print(c, end='$$$')\n",
    "    WT = V[V['t']==p.T][c].iloc[0]\n",
    "    V[c] = V[[c,'t']].apply(lambda x: BrownianBridge(x,WT,p.T), axis=1)"
   ]
  },
  {
   "cell_type": "code",
   "execution_count": null,
   "metadata": {},
   "outputs": [],
   "source": [
    "def getPercentile(row,p):\n",
    "    return np.percentile(row, p)\n",
    "\n",
    "def getGaussConf(row,ci):\n",
    "    n = len(row)\n",
    "    return sp.stats.t.interval(0.95, len(row)-1, loc=np.mean(row), scale=sp.stats.sem(row))\n",
    "    #return np.abs(sp.stats.t.ppf((1-ci)/2,len(row)-1) / np.sqrt(len(row)))\n"
   ]
  },
  {
   "cell_type": "code",
   "execution_count": null,
   "metadata": {},
   "outputs": [],
   "source": [
    "#add some stats\n",
    "V['mean'] = V[V.columns[:p.numOfPaths]].mean(axis=1)\n",
    "V['stddev'] = V[V.columns[:p.numOfPaths]].std(axis=1)\n",
    "V['97th'] = V[V.columns[:p.numOfPaths]].apply(lambda x: getPercentile(x,97),axis=1)\n",
    "V['03th'] = V[V.columns[:p.numOfPaths]].apply(lambda x: getPercentile(x,3),axis=1)\n",
    "\n",
    "V['GaussConf97B'] = V[V.columns[:p.numOfPaths]].apply(lambda x: getGaussConf(x,0.97)[0], axis=1)\n",
    "V['GaussConf97B'].fillna(0, inplace=True)\n",
    "V['GaussConf97T'] = V[V.columns[:p.numOfPaths]].apply(lambda x: getGaussConf(x,0.97)[1], axis=1)\n",
    "V['GaussConf97T'].fillna(0, inplace=True)\n",
    "\n",
    "#V['GaussConf97'] = V[V.columns[:p.numOfPaths]].apply(lambda x: getGaussConf(x,0.97), axis=1)\n",
    "#V['GaussConf97'].fillna(0, inplace=True)\n",
    "#V['GaussConf97T'] = V['mean'] + V['stddev']*V['GaussConf97']\n",
    "#V['GaussConf97B'] = V['mean'] - V['stddev']*V['GaussConf97']"
   ]
  },
  {
   "cell_type": "code",
   "execution_count": null,
   "metadata": {},
   "outputs": [],
   "source": [
    "plt.figure(figsize=(20,10), facecolor='white')\n",
    "plt.title('Borwnian Bridge')\n",
    "plt.xlabel('time [d]')\n",
    "plt.ylabel('dist')\n",
    "\n",
    "plt.plot(V.iloc[:,0:p.numOfPaths], color='k', alpha=0.1)\n",
    "plt.plot(V['mean'], color='r', alpha=1, label='mean')\n",
    "plt.plot(V['stddev'], color='g', alpha=1, label='std')\n",
    "plt.plot(-V['stddev'], color='g', alpha=1, label='')\n",
    "plt.plot(V['97th'], color='b', alpha=1, label='3/97th')\n",
    "plt.plot(V['03th'], color='b', alpha=1, label='')\n",
    "plt.plot(V['GaussConf97B'], color='r', alpha=0.4, label='GaussConfInt.97')\n",
    "plt.plot(V['GaussConf97T'], color='r', alpha=0.4, label='')\n",
    "plt.legend(loc='upper left')\n",
    "plt.show()"
   ]
  },
  {
   "cell_type": "markdown",
   "metadata": {},
   "source": [
    "## Some plots"
   ]
  },
  {
   "cell_type": "code",
   "execution_count": null,
   "metadata": {},
   "outputs": [],
   "source": [
    "import matplotlib.ticker as mtick\n",
    "df = pd.DataFrame({'x': [1000,2000,3000,4000], 'y1': [100,120,110,89], 'y2': [100,105,80,100], 'y3': [100,80,90,120]})\n",
    "\n",
    "fig = plt.figure(figsize=(8,5))\n",
    "\n",
    "ax = fig.add_subplot()\n",
    "ax.plot(df['x'], df['y1']/100, label=\"test1\", c='orange', marker='o')\n",
    "ax.plot(df['x'], df['y2']/100, label=\"test2\", c='tab:blue', marker='o')\n",
    "ax.plot(df['x'], df['y3']/100, label=\"test3\", c='gray', marker='o')\n",
    "ax.set_title('Title')\n",
    "#ax.yaxis.set_major_formatter(mtick.PercentFormatter())\n",
    "vals = ax.get_yticks()\n",
    "ax.set_yticklabels(['{:,.0%}'.format(x) for x in vals])\n",
    "vals = [1000,2000,3000,4000]\n",
    "#ax.set_xticklabels(vals)\n",
    "plt.xticks(np.arange(1000, 5000, 1000))\n",
    "#ax.set_ylabel('%')\n",
    "\n",
    "# Place a legend above this subplot, expanding itself to\n",
    "# fully use the given bounding box.\n",
    "\n",
    "ax.grid(axis='y')\n",
    "\n",
    "ax.legend(bbox_to_anchor=(0., -.2, 1., .102), loc='lower left',\n",
    "           ncol=3, mode=\"expand\", borderaxespad=0.)\n",
    "\n",
    "plt.show()"
   ]
  },
  {
   "cell_type": "markdown",
   "metadata": {},
   "source": [
    "## Creating Power Point slides"
   ]
  },
  {
   "cell_type": "code",
   "execution_count": null,
   "metadata": {},
   "outputs": [],
   "source": [
    "from pptx import Presentation     \n",
    "from pptx.chart.data import CategoryChartData\n",
    "from pptx.enum.chart import XL_CHART_TYPE\n",
    "from pptx.chart.data import ChartData\n",
    "from pptx.util import Inches\n",
    "\n",
    "imgpth = 'herbStock.png'\n",
    "  \n",
    "prs = Presentation()\n",
    "    # Use the output from analyze_ppt to understand which layouts and placeholders\n",
    "    # to use\n",
    "    # Create a title slide first\n",
    "title_slide_layout = prs.slide_layouts[0]\n",
    "slide = prs.slides.add_slide(title_slide_layout)\n",
    "title = slide.shapes.title\n",
    "subtitle = slide.placeholders[1]\n",
    "title.text = \"Quarterly Report\"\n",
    "subtitle.text = \"Generated on: {:%Y.%m.%d.}\".format(date.today())\n",
    "\n",
    "graph_slide_layout = prs.slide_layouts[1]\n",
    "slide = prs.slides.add_slide(graph_slide_layout)\n",
    "title = slide.shapes.title\n",
    "title.text = \"Herbs\"\n",
    "placeholder = slide.placeholders[1]\n",
    "left = Inches(1)\n",
    "top = Inches(2)\n",
    "pic = slide.shapes.add_picture(imgpth,left, top, width=Inches(6))\n",
    "\n",
    "prs.save(\"Output.pptx\")"
   ]
  },
  {
   "cell_type": "markdown",
   "metadata": {},
   "source": [
    "## Dealing with Excel files #1 - [openpyxl](https://openpyxl.readthedocs.io/en/stable/usage.html)"
   ]
  },
  {
   "cell_type": "code",
   "execution_count": null,
   "metadata": {},
   "outputs": [],
   "source": [
    "from openpyxl import Workbook\n",
    "from openpyxl.utils import get_column_letter\n",
    "\n",
    "wb = Workbook()\n",
    "\n",
    "dest_filename = 'empty_book.xlsx'\n",
    "\n",
    "ws1 = wb.active\n",
    "ws1.title = \"range names\"\n",
    "\n",
    "for row in range(1, 40):\n",
    "    ws1.append(range(600))\n",
    "\n",
    "ws2 = wb.create_sheet(title=\"Pi\")\n",
    "\n",
    "ws2['F5'] = 3.14\n",
    "\n",
    "ws3 = wb.create_sheet(title=\"Data\")\n",
    "for row in range(10, 20):\n",
    "    for col in range(27, 54):\n",
    "        _ = ws3.cell(column=col, row=row, value=\"{0}\".format(get_column_letter(col)))\n",
    "print(ws3['AA10'].value)\n",
    "\n",
    "wb.save(filename = dest_filename)"
   ]
  },
  {
   "cell_type": "code",
   "execution_count": null,
   "metadata": {},
   "outputs": [],
   "source": [
    "from openpyxl import load_workbook\n",
    "wb = load_workbook(filename = 'empty_book.xlsx')\n",
    "sheet_ranges = wb['range names']\n",
    "print(sheet_ranges['D18'].value)"
   ]
  },
  {
   "cell_type": "markdown",
   "metadata": {},
   "source": [
    "## Dealing with Excel files #2 - [xlwings](https://docs.xlwings.org/en/stable/quickstart.html)"
   ]
  },
  {
   "cell_type": "code",
   "execution_count": null,
   "metadata": {},
   "outputs": [],
   "source": [
    "import xlwings as xw\n",
    "wb = xw.Book('empty_book.xlsx')"
   ]
  },
  {
   "cell_type": "code",
   "execution_count": null,
   "metadata": {},
   "outputs": [],
   "source": [
    "sheet = wb.sheets['Data']"
   ]
  },
  {
   "cell_type": "code",
   "execution_count": null,
   "metadata": {},
   "outputs": [],
   "source": [
    "sheet.range('A1').value = 'Foo 1'\n",
    "sheet.range('A1').value"
   ]
  },
  {
   "cell_type": "code",
   "execution_count": null,
   "metadata": {},
   "outputs": [],
   "source": [
    "df = pd.DataFrame([[1,2], [3,4]], columns=['a', 'b'])\n",
    "sheet.range('A1').value = df\n",
    "sheet.range('A1').options(pd.DataFrame, expand='table').value"
   ]
  }
 ],
 "metadata": {
  "kernelspec": {
   "display_name": "Python 3",
   "language": "python",
   "name": "python3"
  },
  "language_info": {
   "codemirror_mode": {
    "name": "ipython",
    "version": 3
   },
   "file_extension": ".py",
   "mimetype": "text/x-python",
   "name": "python",
   "nbconvert_exporter": "python",
   "pygments_lexer": "ipython3",
   "version": "3.8.6"
  }
 },
 "nbformat": 4,
 "nbformat_minor": 4
}
