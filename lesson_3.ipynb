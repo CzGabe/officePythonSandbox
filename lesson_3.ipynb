{
 "cells": [
  {
   "cell_type": "markdown",
   "metadata": {},
   "source": [
    "# #3 Intro to Python\n",
    "## Mostly Pandas"
   ]
  },
  {
   "cell_type": "code",
   "execution_count": null,
   "metadata": {},
   "outputs": [],
   "source": [
    "from toImportLibraries import *\n",
    "from toImportFunctions import *\n",
    "checkSciLibVersions()"
   ]
  },
  {
   "cell_type": "code",
   "execution_count": null,
   "metadata": {},
   "outputs": [],
   "source": [
    "%matplotlib inline\n",
    "%load_ext autoreload\n",
    "%autoreload 2"
   ]
  },
  {
   "cell_type": "markdown",
   "metadata": {},
   "source": [
    "### Create DataFrame"
   ]
  },
  {
   "cell_type": "code",
   "execution_count": null,
   "metadata": {},
   "outputs": [],
   "source": [
    "df = pd.DataFrame({'id':['Allspice root', 'Berbercane fruit', 'Celandine', 'Ergot seeds'], 'vals':[1,4,6,3]})\n",
    "df"
   ]
  },
  {
   "cell_type": "markdown",
   "metadata": {},
   "source": [
    "### Or read in an example DataFrame"
   ]
  },
  {
   "cell_type": "code",
   "execution_count": null,
   "metadata": {},
   "outputs": [],
   "source": [
    "xlFile = pd.ExcelFile('./FinancialSample.xlsx')\n",
    "df = xlFile.parse('Sheet1')\n",
    "df.head()"
   ]
  },
  {
   "cell_type": "code",
   "execution_count": null,
   "metadata": {},
   "outputs": [],
   "source": [
    "print(df['Units Sold'].sum())\n",
    "print(sum(df['Units Sold']))"
   ]
  },
  {
   "cell_type": "code",
   "execution_count": null,
   "metadata": {},
   "outputs": [],
   "source": [
    "df.loc[df['Month Name']=='January', 'Units Sold'] = np.nan"
   ]
  },
  {
   "cell_type": "code",
   "execution_count": null,
   "metadata": {},
   "outputs": [],
   "source": [
    "print(df['Units Sold'].sum())\n",
    "print(sum(df['Units Sold']))"
   ]
  },
  {
   "cell_type": "code",
   "execution_count": null,
   "metadata": {},
   "outputs": [],
   "source": []
  },
  {
   "cell_type": "markdown",
   "metadata": {},
   "source": [
    "## Get some details from the DataFrame"
   ]
  },
  {
   "cell_type": "code",
   "execution_count": null,
   "metadata": {},
   "outputs": [],
   "source": [
    "print(\"Shape of the df:\", str(df.shape))\n",
    "print(\"Types of the columns:\\n\", str(df.dtypes))\n",
    "print(\"Describe values:\")\n",
    "df.describe()"
   ]
  },
  {
   "cell_type": "code",
   "execution_count": null,
   "metadata": {},
   "outputs": [],
   "source": [
    "df.info()"
   ]
  },
  {
   "cell_type": "code",
   "execution_count": null,
   "metadata": {},
   "outputs": [],
   "source": [
    "#df.head()\n",
    "#print(df.head())\n",
    "display(HTML(df.head().to_html()))\n",
    "len(df)"
   ]
  },
  {
   "cell_type": "markdown",
   "metadata": {},
   "source": [
    "## Select parts of the DataFrame\n",
    "### by Columns"
   ]
  },
  {
   "cell_type": "code",
   "execution_count": null,
   "metadata": {},
   "outputs": [],
   "source": [
    "df[['Country','Product']].head()"
   ]
  },
  {
   "cell_type": "code",
   "execution_count": null,
   "metadata": {},
   "outputs": [],
   "source": [
    "#df['Country','Product'].head() #--> error\n",
    "df['Discount Band'].head()"
   ]
  },
  {
   "cell_type": "code",
   "execution_count": null,
   "metadata": {},
   "outputs": [],
   "source": [
    "print(type(df['Country']))\n",
    "print(type(df[['Country']]))"
   ]
  },
  {
   "cell_type": "code",
   "execution_count": null,
   "metadata": {},
   "outputs": [],
   "source": [
    "# different syntax can be used to refer to columns,\n",
    "# but '' might be preferred due to possible spaces in the column names\n",
    "print(type(df.Segment))\n",
    "df.Segment.head()"
   ]
  },
  {
   "cell_type": "code",
   "execution_count": null,
   "metadata": {},
   "outputs": [],
   "source": [
    "print(type(df.columns))\n",
    "df.columns"
   ]
  },
  {
   "cell_type": "code",
   "execution_count": null,
   "metadata": {},
   "outputs": [],
   "source": [
    "df.columns[:-1]"
   ]
  },
  {
   "cell_type": "code",
   "execution_count": null,
   "metadata": {},
   "outputs": [],
   "source": [
    "#df.columns is handy e.g. when we don't know the name of the column, but we need e.g. the 2nd one:\n",
    "df[df.columns[2]].head()"
   ]
  },
  {
   "cell_type": "code",
   "execution_count": null,
   "metadata": {},
   "outputs": [],
   "source": [
    "df[df.columns[4:7]].head()"
   ]
  },
  {
   "cell_type": "code",
   "execution_count": null,
   "metadata": {},
   "outputs": [],
   "source": [
    "for i in df['Country']:\n",
    "    print(i,end=', ')"
   ]
  },
  {
   "cell_type": "markdown",
   "metadata": {},
   "source": [
    "_Note: Jupyter feature: collapse output by clicking/double-clicking on the left side of output block_"
   ]
  },
  {
   "cell_type": "markdown",
   "metadata": {},
   "source": [
    "### select by Rows\n",
    "_Note: Indexes are not columns (nor primary keys)_"
   ]
  },
  {
   "cell_type": "code",
   "execution_count": null,
   "metadata": {},
   "outputs": [],
   "source": [
    "#same as df.head()\n",
    "df[:5]"
   ]
  },
  {
   "cell_type": "code",
   "execution_count": null,
   "metadata": {},
   "outputs": [],
   "source": [
    "#Every second line\n",
    "df[20:30:2]"
   ]
  },
  {
   "cell_type": "markdown",
   "metadata": {},
   "source": [
    "The recommended methods for indexing are\n",
    "* .loc  -> if you want to index by label\n",
    "* .iloc -> if you want to positionally index\n",
    "* (.ix is [depricated](https://pandas.pydata.org/pandas-docs/version/0.23/generated/pandas.DataFrame.ix.html))"
   ]
  },
  {
   "cell_type": "code",
   "execution_count": null,
   "metadata": {},
   "outputs": [],
   "source": [
    "dfTMP = pd.DataFrame({'A':[1,2,3], 'B':[9,8,7]}, index=list('xyz'))\n",
    "dfTMP"
   ]
  },
  {
   "cell_type": "code",
   "execution_count": null,
   "metadata": {},
   "outputs": [],
   "source": [
    "dfTMP.loc[['x','y'],'A']"
   ]
  },
  {
   "cell_type": "code",
   "execution_count": null,
   "metadata": {},
   "outputs": [],
   "source": [
    "dfTMP.iloc[[0,2],0]"
   ]
  },
  {
   "cell_type": "markdown",
   "metadata": {},
   "source": [
    "### Get a specific cell"
   ]
  },
  {
   "cell_type": "code",
   "execution_count": null,
   "metadata": {},
   "outputs": [],
   "source": [
    "df.head()"
   ]
  },
  {
   "cell_type": "code",
   "execution_count": null,
   "metadata": {},
   "outputs": [],
   "source": [
    "print(type(df.iloc[2,3]))\n",
    "df.iloc[2,1]"
   ]
  },
  {
   "cell_type": "markdown",
   "metadata": {},
   "source": [
    "## Create new DataFrame from existing one"
   ]
  },
  {
   "cell_type": "code",
   "execution_count": null,
   "metadata": {},
   "outputs": [],
   "source": [
    "# Use .copy(), or it will be passed as reference...\n",
    "df2 = df[200:400:25].copy()\n",
    "df2"
   ]
  },
  {
   "cell_type": "code",
   "execution_count": null,
   "metadata": {},
   "outputs": [],
   "source": [
    "#Check the right index\n",
    "df2.loc[250,'Country']"
   ]
  },
  {
   "cell_type": "code",
   "execution_count": null,
   "metadata": {},
   "outputs": [],
   "source": [
    "print(df2.loc[250,'Country'])\n",
    "df2.loc[250,'Country'] = 'Neverland'\n",
    "print(df2.loc[250,'Country'])"
   ]
  },
  {
   "cell_type": "code",
   "execution_count": null,
   "metadata": {},
   "outputs": [],
   "source": [
    "df2"
   ]
  },
  {
   "cell_type": "code",
   "execution_count": null,
   "metadata": {},
   "outputs": [],
   "source": [
    "# The original df haven't changed.\n",
    "# Without .copy(), the original df would have 'Neverland' as well\n",
    "df[200:400:25]"
   ]
  },
  {
   "cell_type": "markdown",
   "metadata": {},
   "source": [
    "### Set the indexes"
   ]
  },
  {
   "cell_type": "code",
   "execution_count": null,
   "metadata": {},
   "outputs": [],
   "source": [
    "# Notice df2's indexes don't strat with 0:\n",
    "df2.head(2)"
   ]
  },
  {
   "cell_type": "code",
   "execution_count": null,
   "metadata": {},
   "outputs": [],
   "source": [
    "# To reset them:\n",
    "df2.reset_index()"
   ]
  },
  {
   "cell_type": "code",
   "execution_count": null,
   "metadata": {},
   "outputs": [],
   "source": [
    "# Like this the df have not changed itself:\n",
    "df2.head(2)\n",
    "# It needs to be replaced "
   ]
  },
  {
   "cell_type": "code",
   "execution_count": null,
   "metadata": {},
   "outputs": [],
   "source": [
    "df2 = df2.reset_index()\n",
    "df2"
   ]
  },
  {
   "cell_type": "code",
   "execution_count": null,
   "metadata": {},
   "outputs": [],
   "source": [
    "# Or inplace argument can be used:\n",
    "df2 = df[200:400:25].copy()\n",
    "df2.reset_index(inplace=True)\n",
    "df2"
   ]
  },
  {
   "cell_type": "code",
   "execution_count": null,
   "metadata": {},
   "outputs": [],
   "source": [
    "# In case the old index is not needed, it can be dropped:\n",
    "df2 = df[200:400:25].copy()\n",
    "df2.reset_index(inplace=True, drop=True)\n",
    "df2"
   ]
  },
  {
   "cell_type": "markdown",
   "metadata": {},
   "source": [
    "## Select with conditions, filtering"
   ]
  },
  {
   "cell_type": "markdown",
   "metadata": {},
   "source": [
    "__== -> equality__"
   ]
  },
  {
   "cell_type": "code",
   "execution_count": null,
   "metadata": {},
   "outputs": [],
   "source": [
    "df[df[\"Country\"] == 'Canada'].head(3)"
   ]
  },
  {
   "cell_type": "markdown",
   "metadata": {},
   "source": [
    "__!= -> inequality__"
   ]
  },
  {
   "cell_type": "code",
   "execution_count": null,
   "metadata": {},
   "outputs": [],
   "source": [
    "df[df[\"Country\"] != 'Canada'].head(3)"
   ]
  },
  {
   "cell_type": "code",
   "execution_count": null,
   "metadata": {},
   "outputs": [],
   "source": [
    "# Under the hood:\n",
    "print(type(df[\"Country\"] == 'Canada'))\n",
    "(df[\"Country\"] == 'Canada').head(3) # filte mask"
   ]
  },
  {
   "cell_type": "code",
   "execution_count": null,
   "metadata": {},
   "outputs": [],
   "source": [
    "(df[\"Country\"] == 'Canada').value_counts()"
   ]
  },
  {
   "cell_type": "code",
   "execution_count": null,
   "metadata": {},
   "outputs": [],
   "source": [
    "len(df[df[\"Country\"] == 'Canada'])\n",
    "# It's mathing..."
   ]
  },
  {
   "cell_type": "markdown",
   "metadata": {},
   "source": [
    "__<,>,<=,>= -> Order Comparisons__\n",
    "\n",
    "__& -> And__\n",
    "\n",
    "__| -> Or__"
   ]
  },
  {
   "cell_type": "code",
   "execution_count": null,
   "metadata": {},
   "outputs": [],
   "source": [
    "#check unique vaules in a column\n",
    "df['Sale Price'].unique()"
   ]
  },
  {
   "cell_type": "code",
   "execution_count": null,
   "metadata": {},
   "outputs": [],
   "source": [
    "df[(df['Sale Price'] > 20) & (df['Sale Price'] < 300)].head()"
   ]
  },
  {
   "cell_type": "code",
   "execution_count": null,
   "metadata": {},
   "outputs": [],
   "source": [
    "df[(df['Sale Price'] <= 20) | (df['Sale Price'] >= 300)].head()"
   ]
  },
  {
   "cell_type": "markdown",
   "metadata": {},
   "source": [
    "__Search by strings__"
   ]
  },
  {
   "cell_type": "code",
   "execution_count": null,
   "metadata": {},
   "outputs": [],
   "source": [
    "df[df['Segment'].str.contains('er')].head()"
   ]
  },
  {
   "cell_type": "code",
   "execution_count": null,
   "metadata": {},
   "outputs": [],
   "source": [
    "# Note: OR (|) can be used within the string:\n",
    "#df[(df['Segment'].str.contains('nn')) | (df['Segment'].str.contains('ise'))].head()\n",
    "df[(df['Segment'].str.contains('nn|ise'))].head()"
   ]
  },
  {
   "cell_type": "markdown",
   "metadata": {},
   "source": [
    "Use strings by index"
   ]
  },
  {
   "cell_type": "code",
   "execution_count": null,
   "metadata": {},
   "outputs": [],
   "source": [
    "df[df['Country'].str[:3]=='Can'].head()"
   ]
  },
  {
   "cell_type": "markdown",
   "metadata": {},
   "source": [
    "__Use [REGEX](https://docs.python.org/3/library/re.html)__"
   ]
  },
  {
   "cell_type": "code",
   "execution_count": null,
   "metadata": {},
   "outputs": [],
   "source": [
    "# Let's use the last 5 columns:\n",
    "dfTmp = df[df.columns[-6:]].copy()\n",
    "dfTmp.head()"
   ]
  },
  {
   "cell_type": "code",
   "execution_count": null,
   "metadata": {},
   "outputs": [],
   "source": [
    "# Months staring with 'J'\n",
    "dfTmp[dfTmp['Month Name'].str.contains(r'^J.*')].head()"
   ]
  },
  {
   "cell_type": "code",
   "execution_count": null,
   "metadata": {},
   "outputs": [],
   "source": [
    "# Months ending with 'ber'\n",
    "dfTmp[dfTmp['Month Name'].str.contains(r'.*ber$')].head()"
   ]
  },
  {
   "cell_type": "markdown",
   "metadata": {},
   "source": [
    "__~ -> Negating condition__"
   ]
  },
  {
   "cell_type": "code",
   "execution_count": null,
   "metadata": {},
   "outputs": [],
   "source": [
    "df[~df['Month Name'].str.contains('er')].head()"
   ]
  },
  {
   "cell_type": "code",
   "execution_count": null,
   "metadata": {},
   "outputs": [],
   "source": [
    "# Checking if really works\n",
    "df[~df['Month Name'].str.contains('er')]['Month Name'].unique()"
   ]
  },
  {
   "cell_type": "markdown",
   "metadata": {},
   "source": [
    "## Manipulate data"
   ]
  },
  {
   "cell_type": "markdown",
   "metadata": {},
   "source": [
    "__Add new columns__"
   ]
  },
  {
   "cell_type": "code",
   "execution_count": null,
   "metadata": {},
   "outputs": [],
   "source": [
    "df['SomeNewColumn'] = 2\n",
    "df[df.columns[-7:]].head()"
   ]
  },
  {
   "cell_type": "markdown",
   "metadata": {},
   "source": [
    "_Math operations_"
   ]
  },
  {
   "cell_type": "code",
   "execution_count": null,
   "metadata": {},
   "outputs": [],
   "source": [
    "df['ProfitNew'] = (df['Sale Price'] - df['Manufacturing Price']) * df['Units Sold']\n",
    "df.head()"
   ]
  },
  {
   "cell_type": "markdown",
   "metadata": {},
   "source": [
    "_str operations_"
   ]
  },
  {
   "cell_type": "code",
   "execution_count": null,
   "metadata": {},
   "outputs": [],
   "source": [
    "df['SomeNewColumn'] = df['Product'] + '_' + df['Country'] \n",
    "df[['Product', 'Country', 'SomeNewColumn']].head()"
   ]
  },
  {
   "cell_type": "markdown",
   "metadata": {},
   "source": [
    "__Add rows__\n",
    "\n",
    "Use _concat_ or _append_ - see later"
   ]
  },
  {
   "cell_type": "markdown",
   "metadata": {},
   "source": [
    "__Delete Columns__"
   ]
  },
  {
   "cell_type": "code",
   "execution_count": null,
   "metadata": {},
   "outputs": [],
   "source": [
    "df.drop(labels=['SomeNewColumn','ProfitNew'], axis=1, inplace=True)\n",
    "df.head()"
   ]
  },
  {
   "cell_type": "markdown",
   "metadata": {},
   "source": [
    "__Axis Parameter__ \n",
    "\n",
    "Example from [stackoverflow](https://stackoverflow.com/questions/22149584/what-does-axis-in-pandas-mean):\n",
    "\n",
    "|            |  A      |  B     |                 |\n",
    "|------------|---------|--------|-----------------|\n",
    "|      0     | 0.626386| 1.52325|----axis=1-----> |\n",
    "|            | axis=0  |        |                 |\n",
    "|            |   ↓     |        |                 |\n",
    "\n",
    "Other examples from [youtube](https://www.youtube.com/watch?v=PtO3t6ynH-8&ab_channel=DataSchool)"
   ]
  },
  {
   "cell_type": "markdown",
   "metadata": {},
   "source": [
    "__Delete Row (by index)__"
   ]
  },
  {
   "cell_type": "code",
   "execution_count": null,
   "metadata": {},
   "outputs": [],
   "source": [
    "dfTmp = df.drop(df.index[[1,]]).copy()\n",
    "dfTmp.head()"
   ]
  },
  {
   "cell_type": "markdown",
   "metadata": {},
   "source": [
    "__Uppescase__"
   ]
  },
  {
   "cell_type": "code",
   "execution_count": null,
   "metadata": {},
   "outputs": [],
   "source": [
    "df['Segment'] = df['Segment'].str.upper()\n",
    "df.head()"
   ]
  },
  {
   "cell_type": "markdown",
   "metadata": {},
   "source": [
    "__Strip__"
   ]
  },
  {
   "cell_type": "code",
   "execution_count": null,
   "metadata": {},
   "outputs": [],
   "source": [
    "# Let's assume there are leading and trailing blank spaces in a column\n",
    "# (We'll put them in artificially now...)\n",
    "df['Product'] = ' ' + df['Product'] + ' ' "
   ]
  },
  {
   "cell_type": "code",
   "execution_count": null,
   "metadata": {},
   "outputs": [],
   "source": [
    "# One of the problem is that they're hard to notice...\n",
    "df.head()"
   ]
  },
  {
   "cell_type": "code",
   "execution_count": null,
   "metadata": {},
   "outputs": [],
   "source": [
    "# ... but can cause difficulties: \n",
    "df[df['Product'] == 'Carretera'].head()"
   ]
  },
  {
   "cell_type": "code",
   "execution_count": null,
   "metadata": {},
   "outputs": [],
   "source": [
    "# It will only work with the spaces:\n",
    "df[df['Product'] == ' Carretera '].head()"
   ]
  },
  {
   "cell_type": "code",
   "execution_count": null,
   "metadata": {},
   "outputs": [],
   "source": [
    "df.loc[0,'Product']"
   ]
  },
  {
   "cell_type": "code",
   "execution_count": null,
   "metadata": {},
   "outputs": [],
   "source": [
    "# Leading and trailing Spaces can be neglected during filtering:\n",
    "df[df['Product'].str.strip() == 'Carretera'].head()"
   ]
  },
  {
   "cell_type": "code",
   "execution_count": null,
   "metadata": {},
   "outputs": [],
   "source": [
    "# Or removed from the DataFrame:\n",
    "df['Product'] = df['Product'].str.strip()\n",
    "df[df['Product'] == 'Carretera'].head()"
   ]
  },
  {
   "cell_type": "markdown",
   "metadata": {},
   "source": [
    "__Rename columns__"
   ]
  },
  {
   "cell_type": "code",
   "execution_count": null,
   "metadata": {},
   "outputs": [],
   "source": [
    "df.rename(columns={'Segment': 'SegmentUPPERCASE', 'Product': 'ProductRenamed'}, inplace=True)\n",
    "df.head()"
   ]
  },
  {
   "cell_type": "markdown",
   "metadata": {},
   "source": [
    "## Sort, groupby, combine commands..."
   ]
  },
  {
   "cell_type": "code",
   "execution_count": null,
   "metadata": {},
   "outputs": [],
   "source": [
    "# reload original - just in case\n",
    "xlFile = pd.ExcelFile('./FinancialSample.xlsx')\n",
    "df = xlFile.parse('Sheet1')\n",
    "df.head()"
   ]
  },
  {
   "cell_type": "code",
   "execution_count": null,
   "metadata": {},
   "outputs": [],
   "source": [
    "df.sort_values('Gross Sales', ascending=False, inplace=True)\n",
    "df.head()"
   ]
  },
  {
   "cell_type": "code",
   "execution_count": null,
   "metadata": {},
   "outputs": [],
   "source": [
    "pd.DataFrame(df.groupby(['Segment'])['Country'].count())"
   ]
  },
  {
   "cell_type": "code",
   "execution_count": null,
   "metadata": {},
   "outputs": [],
   "source": [
    "# Creating a typical DataFrame from the above:\n",
    "dfTmp = pd.DataFrame(df.groupby(['Segment'])['Country'].count())\n",
    "dfTmp.reset_index(inplace=True)\n",
    "dfTmp.rename(columns={'Country': 'Freq'}, inplace=True)\n",
    "dfTmp"
   ]
  },
  {
   "cell_type": "markdown",
   "metadata": {},
   "source": [
    "## Duplicates"
   ]
  },
  {
   "cell_type": "markdown",
   "metadata": {},
   "source": [
    "__List duplicates__"
   ]
  },
  {
   "cell_type": "code",
   "execution_count": null,
   "metadata": {},
   "outputs": [],
   "source": [
    "df[df.duplicated(['Segment', 'Country'])][['Segment', 'Country']].sort_values(['Segment', 'Country'])"
   ]
  },
  {
   "cell_type": "markdown",
   "metadata": {},
   "source": [
    "__Drop duplicates__"
   ]
  },
  {
   "cell_type": "code",
   "execution_count": null,
   "metadata": {},
   "outputs": [],
   "source": [
    "df[['Country','Segment']].drop_duplicates().sort_values(['Country','Segment'])"
   ]
  },
  {
   "cell_type": "markdown",
   "metadata": {},
   "source": [
    "## _lambda_: anonymous function -> convert on the fly..."
   ]
  },
  {
   "cell_type": "code",
   "execution_count": null,
   "metadata": {},
   "outputs": [],
   "source": [
    "df['MF bucket'] = df['Manufacturing Price'].apply(lambda x: '> 50' if x>50 else '<=50')\n",
    "df[['Manufacturing Price', 'MF bucket']].tail()"
   ]
  },
  {
   "cell_type": "code",
   "execution_count": null,
   "metadata": {},
   "outputs": [],
   "source": [
    "# Munltiple (or even all) columns can be handed over:\n",
    "df['SomeNewCol'] = df[['Segment', 'Country', 'Month Name']].apply(lambda x: x[0][:3]+'-'+x[1][:3]+'-'+x[2][:3], axis=1)\n",
    "df[['Segment', 'Country', 'Month Name', 'SomeNewCol']].head()"
   ]
  },
  {
   "cell_type": "markdown",
   "metadata": {},
   "source": [
    "## Concatenate Strings\n",
    "\n",
    "(Handy e.g. when creating SQL queries...)"
   ]
  },
  {
   "cell_type": "markdown",
   "metadata": {},
   "source": [
    "__use .join()__"
   ]
  },
  {
   "cell_type": "code",
   "execution_count": null,
   "metadata": {},
   "outputs": [],
   "source": [
    "'-'.join(['a','b','c','d'])"
   ]
  },
  {
   "cell_type": "code",
   "execution_count": null,
   "metadata": {},
   "outputs": [],
   "source": [
    "'-->X<--'.join(['a','b','c','d'])"
   ]
  },
  {
   "cell_type": "code",
   "execution_count": null,
   "metadata": {},
   "outputs": [],
   "source": [
    "' <x> '.join(df['Product'].unique())"
   ]
  },
  {
   "cell_type": "markdown",
   "metadata": {},
   "source": [
    "__use Groupby__"
   ]
  },
  {
   "cell_type": "code",
   "execution_count": null,
   "metadata": {},
   "outputs": [],
   "source": [
    "dfGrp = df[['Product','Segment', 'Country', 'Month Name']].groupby(['Product','Segment', 'Country']).sum()\n",
    "dfGrp.reset_index(inplace=True)\n",
    "dfGrp.head(8)"
   ]
  },
  {
   "cell_type": "markdown",
   "metadata": {},
   "source": [
    "__use Groupby with .join()__"
   ]
  },
  {
   "cell_type": "code",
   "execution_count": null,
   "metadata": {},
   "outputs": [],
   "source": [
    "dfGrp = pd.DataFrame(df.groupby(['Product','Segment', 'Country'])['Month Name'].apply(lambda x: ', '.join(x)))\n",
    "dfGrp.reset_index(inplace=True)\n",
    "dfGrp.head(8)"
   ]
  },
  {
   "cell_type": "markdown",
   "metadata": {},
   "source": [
    "## Modify / Create columns based on other columns..."
   ]
  },
  {
   "cell_type": "markdown",
   "metadata": {},
   "source": [
    "__with .loc__"
   ]
  },
  {
   "cell_type": "code",
   "execution_count": null,
   "metadata": {},
   "outputs": [],
   "source": [
    "# Overwrite values in column based on condition:\n",
    "df.loc[df['Segment'] == 'Midmarket', 'Country'] = 'Neverland'\n",
    "df.head()"
   ]
  },
  {
   "cell_type": "code",
   "execution_count": null,
   "metadata": {},
   "outputs": [],
   "source": [
    "# Or create new column:\n",
    "df.loc[df['Segment'] == 'Midmarket', 'someFlag'] = 'Yes'\n",
    "df.head()"
   ]
  },
  {
   "cell_type": "markdown",
   "metadata": {},
   "source": [
    "with numpy where"
   ]
  },
  {
   "cell_type": "code",
   "execution_count": null,
   "metadata": {},
   "outputs": [],
   "source": [
    "df['month-note'] = np.where(df['Month Name'].str.contains('a'), '\\'a\\' found', '\\'a\\' not found')\n",
    "df[df.columns[-6:]].tail()"
   ]
  },
  {
   "cell_type": "code",
   "execution_count": null,
   "metadata": {},
   "outputs": [],
   "source": [
    "# As Python is case sensitive \n",
    "df[(df['Month Name']=='August') | (df['Month Name']=='May')][df.columns[-6:]].head()"
   ]
  },
  {
   "cell_type": "code",
   "execution_count": null,
   "metadata": {},
   "outputs": [],
   "source": [
    "# To catch 'A' as well, either check for both or make the column lower case:\n",
    "df['month-note'] = np.where(df['Month Name'].str.lower().str.contains('a'), '\\'a\\' found', '\\'a\\' not found')\n",
    "df[(df['Month Name']=='August') | (df['Month Name']=='May')][df.columns[-6:]].head()"
   ]
  },
  {
   "cell_type": "markdown",
   "metadata": {},
   "source": [
    "## Aovid loops, use apply"
   ]
  },
  {
   "cell_type": "code",
   "execution_count": null,
   "metadata": {},
   "outputs": [],
   "source": [
    "df['DiscountsRound'] = df['Discounts'].apply(round)\n",
    "df[['Discounts', 'DiscountsRound']].tail()"
   ]
  },
  {
   "cell_type": "markdown",
   "metadata": {},
   "source": [
    "__Define Functions for more complex solutions__"
   ]
  },
  {
   "cell_type": "code",
   "execution_count": null,
   "metadata": {},
   "outputs": [],
   "source": [
    "def someFunc(row):\n",
    "    if ((row['Country'] == 'Germany') & (row['Units Sold'] > 2900)):\n",
    "        return 'Condition True'\n",
    "    else:\n",
    "        return 'Condition False'"
   ]
  },
  {
   "cell_type": "code",
   "execution_count": null,
   "metadata": {},
   "outputs": [],
   "source": [
    "df['Germany2.5k'] = df.apply(someFunc, axis=1)\n",
    "df[df['Country'] == 'Germany'].head()"
   ]
  },
  {
   "cell_type": "code",
   "execution_count": null,
   "metadata": {},
   "outputs": [],
   "source": [
    "# Arguments can be used as well\n",
    "def fullPriceFunc(row, extraTaxMultiplier):\n",
    "    value = row['Manufacturing Price'] * row['Sale Price']\n",
    "    if (row['Country'] == 'France') : value *=  extraTaxMultiplier\n",
    "    return value"
   ]
  },
  {
   "cell_type": "code",
   "execution_count": null,
   "metadata": {},
   "outputs": [],
   "source": [
    "# No need to hand over the full row (all the columns) to .apply()\n",
    "df['fullPrice'] = df[['Country', 'Manufacturing Price', 'Sale Price']].apply(lambda x: fullPriceFunc(x,1.05), axis=1)\n",
    "df.head()"
   ]
  },
  {
   "cell_type": "markdown",
   "metadata": {},
   "source": [
    "__Why to avoid loops and think in vectors?__"
   ]
  },
  {
   "cell_type": "code",
   "execution_count": null,
   "metadata": {},
   "outputs": [],
   "source": [
    "n = 1000\n",
    "dfTest = pd.DataFrame({'num': range(0,n)})\n",
    "dfTest['rnd'] = np.random.randn(n,1)\n",
    "dfTest['rnd2'] = 0\n",
    "dfTest.head(3)"
   ]
  },
  {
   "cell_type": "code",
   "execution_count": null,
   "metadata": {},
   "outputs": [],
   "source": [
    "stt = time.time()\n",
    "dfTest['rnd2'] = dfTest['rnd'] ** 3 / 123456789\n",
    "print('time: ' + str(time.time()-stt))"
   ]
  },
  {
   "cell_type": "code",
   "execution_count": null,
   "metadata": {},
   "outputs": [],
   "source": [
    "#reset\n",
    "dfTest['rnd2'] = 0"
   ]
  },
  {
   "cell_type": "code",
   "execution_count": null,
   "metadata": {},
   "outputs": [],
   "source": [
    "stt = time.time()\n",
    "for i in range(0,n):\n",
    "    dfTest.loc[i,'rnd2'] = dfTest.loc[i,'rnd'] ** 3 / 123456789\n",
    "print('time: ' + str(time.time()-stt))"
   ]
  },
  {
   "cell_type": "markdown",
   "metadata": {},
   "source": [
    "## For similar useful finctions check:\n",
    "* .agg\n",
    "* .map\n",
    "* [pivot table](https://pbpython.com/pandas-pivot-table-explained.html)<br>\n",
    "![Python's logo](https://pbpython.com/images/pivot-table-datasheet.png)\n"
   ]
  },
  {
   "cell_type": "code",
   "execution_count": null,
   "metadata": {},
   "outputs": [],
   "source": [
    "df.head()"
   ]
  },
  {
   "cell_type": "code",
   "execution_count": null,
   "metadata": {},
   "outputs": [],
   "source": [
    "dfTmp = pd.DataFrame(df.groupby(['Segment', 'Country']).agg({\n",
    "        'Units Sold': np.sum,\n",
    "        'Gross Sales': np.mean}))\n",
    "dfTmp"
   ]
  },
  {
   "cell_type": "markdown",
   "metadata": {},
   "source": [
    "## Combine 2 DataFrames"
   ]
  },
  {
   "cell_type": "markdown",
   "metadata": {},
   "source": [
    "__Merge__"
   ]
  },
  {
   "cell_type": "code",
   "execution_count": null,
   "metadata": {},
   "outputs": [],
   "source": [
    "df1 = pd.DataFrame({'name': ['Agrajag', 'Fenchurch', 'Wonko', 'Random'], 'book':[3, 4, 4, 5], 'year': [1982, 1984, 1984, 1992], 'pages': [ 227, 224, 224, 240]})\n",
    "df1"
   ]
  },
  {
   "cell_type": "code",
   "execution_count": null,
   "metadata": {},
   "outputs": [],
   "source": [
    "df2 = pd.DataFrame({'Book':[3, 4], 'pages': [160, 192]})\n",
    "df2"
   ]
  },
  {
   "cell_type": "code",
   "execution_count": null,
   "metadata": {},
   "outputs": [],
   "source": [
    "df3 = df1.merge(df2, left_on='book', right_on='Book', how='left')\n",
    "df3"
   ]
  },
  {
   "cell_type": "code",
   "execution_count": null,
   "metadata": {},
   "outputs": [],
   "source": [
    "# Set Suffixes\n",
    "df3 = df1.merge(df2, left_on='book', right_on='Book', how='left', suffixes=('_US', '_UK'))\n",
    "df3"
   ]
  },
  {
   "cell_type": "code",
   "execution_count": null,
   "metadata": {},
   "outputs": [],
   "source": [
    "# Fill NaNs in one column\n",
    "df3['pages_UK'].fillna(229, inplace=True)\n",
    "df3"
   ]
  },
  {
   "cell_type": "code",
   "execution_count": null,
   "metadata": {},
   "outputs": [],
   "source": [
    "# Fill NaNs in whole df\n",
    "df3.fillna(5, inplace=True)\n",
    "df3"
   ]
  },
  {
   "cell_type": "markdown",
   "metadata": {},
   "source": [
    "__Concatenate__"
   ]
  },
  {
   "cell_type": "code",
   "execution_count": null,
   "metadata": {},
   "outputs": [],
   "source": [
    "df1 = pd.DataFrame({'A':range(3), 'B':range(3)})\n",
    "display(HTML(df1.head().to_html()))\n",
    "df2 = pd.DataFrame({'A':range(3), 'B':range(3)})\n",
    "display(HTML(df2.head().to_html()))\n",
    "\n",
    "df3 = pd.concat([df1,df2])\n",
    "df3.reset_index(inplace=True,drop=True)\n",
    "df3"
   ]
  },
  {
   "cell_type": "code",
   "execution_count": null,
   "metadata": {},
   "outputs": [],
   "source": [
    "# Concatenation happens even without matching columns:\n",
    "df1 = pd.DataFrame({'A':range(3), 'B':range(3)})\n",
    "display(HTML(df1.head().to_html()))\n",
    "df2 = pd.DataFrame({'a':range(3), 'b':range(3)})\n",
    "display(HTML(df2.head().to_html()))\n",
    "\n",
    "df3 = pd.concat([df1,df2])\n",
    "df3.reset_index(inplace=True,drop=True)\n",
    "df3"
   ]
  },
  {
   "cell_type": "markdown",
   "metadata": {},
   "source": [
    "__.join (to \"concatenate sideways\")__"
   ]
  },
  {
   "cell_type": "code",
   "execution_count": null,
   "metadata": {},
   "outputs": [],
   "source": [
    "df1 = pd.DataFrame({'A':range(3), 'B':range(3)})\n",
    "display(HTML(df1.head().to_html()))\n",
    "df2 = pd.DataFrame({'a':range(3,6), 'b':range(3,6)})\n",
    "display(HTML(df2.head().to_html()))\n",
    "\n",
    "df3 = df1.join(df2)\n",
    "df3"
   ]
  },
  {
   "cell_type": "markdown",
   "metadata": {},
   "source": [
    "## Dataframe column"
   ]
  },
  {
   "cell_type": "code",
   "execution_count": null,
   "metadata": {},
   "outputs": [],
   "source": [
    "df.columns"
   ]
  },
  {
   "cell_type": "code",
   "execution_count": null,
   "metadata": {},
   "outputs": [],
   "source": [
    "df.head()"
   ]
  },
  {
   "cell_type": "markdown",
   "metadata": {},
   "source": [
    "## About time"
   ]
  },
  {
   "cell_type": "code",
   "execution_count": null,
   "metadata": {},
   "outputs": [],
   "source": [
    "df['DateNow'] = df['Date'].astype(str)\n",
    "print(df.loc[1,'DateNow'], type(df.loc[1,'DateNow']))"
   ]
  },
  {
   "cell_type": "code",
   "execution_count": null,
   "metadata": {},
   "outputs": [],
   "source": [
    "df['DateNow'] = pd.to_datetime(df['Date'], format='%Y-%m-%d')\n",
    "print(df.loc[1,'DateNow'], type(df.loc[1,'DateNow']))"
   ]
  },
  {
   "cell_type": "markdown",
   "metadata": {},
   "source": [
    "__calculate days between dates__"
   ]
  },
  {
   "cell_type": "code",
   "execution_count": null,
   "metadata": {},
   "outputs": [],
   "source": [
    "pit = '20210710'\n",
    "pitDt = datetime.strptime(pit, '%Y%m%d')\n",
    "pitDt"
   ]
  },
  {
   "cell_type": "code",
   "execution_count": null,
   "metadata": {},
   "outputs": [],
   "source": [
    "df['daysToPIT'] = (pitDt - df['Date']).dt.days\n",
    "df[['Date','daysToPIT']].head()"
   ]
  }
 ],
 "metadata": {
  "kernelspec": {
   "display_name": "Python 3",
   "language": "python",
   "name": "python3"
  },
  "language_info": {
   "codemirror_mode": {
    "name": "ipython",
    "version": 3
   },
   "file_extension": ".py",
   "mimetype": "text/x-python",
   "name": "python",
   "nbconvert_exporter": "python",
   "pygments_lexer": "ipython3",
   "version": "3.8.6"
  }
 },
 "nbformat": 4,
 "nbformat_minor": 4
}
